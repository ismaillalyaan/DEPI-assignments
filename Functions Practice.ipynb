{
 "cells": [
  {
   "cell_type": "markdown",
   "metadata": {},
   "source": [
    "# Practice    \n",
    "# Enjoy^_^"
   ]
  },
  {
   "cell_type": "markdown",
   "metadata": {},
   "source": [
    "# Calculating Average of Numbers Using Functions"
   ]
  },
  {
   "cell_type": "code",
   "execution_count": null,
   "metadata": {},
   "outputs": [
    {
     "name": "stdout",
     "output_type": "stream",
     "text": [
      "3.0\n"
     ]
    }
   ],
   "source": [
    "def avg(*numbers):\n",
    "    mean = sum(numbers)/len(numbers)\n",
    "    return mean\n",
    "mynum = [1,2,3,4,5]\n",
    "print(avg(*mynum))"
   ]
  },
  {
   "cell_type": "markdown",
   "metadata": {},
   "source": [
    "# Finding the Longest Word in a List"
   ]
  },
  {
   "cell_type": "code",
   "execution_count": 1,
   "metadata": {},
   "outputs": [
    {
     "name": "stdout",
     "output_type": "stream",
     "text": [
      "mohamed\n"
     ]
    }
   ],
   "source": [
    "def longestWORD(*words):\n",
    "    longest = words[0]\n",
    "    for i in words:\n",
    "        if len(i)>len(longest):\n",
    "            longest = i\n",
    "    return longest\n",
    "wordslist= ['ismail','mohamed','elyan']\n",
    "print(longestWORD(*wordslist))"
   ]
  },
  {
   "cell_type": "markdown",
   "metadata": {},
   "source": [
    "# Checking if a Number is Prime"
   ]
  },
  {
   "cell_type": "code",
   "execution_count": 2,
   "metadata": {},
   "outputs": [
    {
     "name": "stdout",
     "output_type": "stream",
     "text": [
      "True\n",
      "False\n",
      "False\n"
     ]
    }
   ],
   "source": [
    "def prime(num):\n",
    "    if num <= 1:\n",
    "        return False\n",
    "    for i in range(2, num):\n",
    "        if num % i == 0:\n",
    "            return False\n",
    "    return True\n",
    "\n",
    "print(prime(7)) \n",
    "print(prime(10))  \n",
    "print(prime(1))   \n"
   ]
  },
  {
   "cell_type": "markdown",
   "metadata": {},
   "source": [
    "# Converting Temperature Units"
   ]
  },
  {
   "cell_type": "code",
   "execution_count": 3,
   "metadata": {},
   "outputs": [
    {
     "name": "stdout",
     "output_type": "stream",
     "text": [
      "77.0\n"
     ]
    }
   ],
   "source": [
    "def c_to_f(celsius):\n",
    "    return (celsius * 9/5) + 32\n",
    "print(c_to_f(25))  "
   ]
  },
  {
   "cell_type": "markdown",
   "metadata": {},
   "source": [
    "# Generating a List of Squares Using List Comprehension and Functions"
   ]
  },
  {
   "cell_type": "code",
   "execution_count": 4,
   "metadata": {},
   "outputs": [
    {
     "name": "stdout",
     "output_type": "stream",
     "text": [
      "[1, 4, 9, 16, 25, 36]\n"
     ]
    }
   ],
   "source": [
    "def square(*num):\n",
    "    squares = [x**2 for x in num]\n",
    "    return squares\n",
    "list = [1,2,3,4,5,6]\n",
    "print(square(*list))"
   ]
  },
  {
   "cell_type": "markdown",
   "metadata": {},
   "source": [
    "# Converting a List of Strings to Uppercase"
   ]
  },
  {
   "cell_type": "code",
   "execution_count": 5,
   "metadata": {},
   "outputs": [
    {
     "name": "stdout",
     "output_type": "stream",
     "text": [
      "['ISMAIL', 'MOHAMED', 'ELYAN']\n"
     ]
    }
   ],
   "source": [
    "def upp(strings):\n",
    "    a = []\n",
    "    for i in strings:\n",
    "        i = i.upper()\n",
    "        a.append(i)\n",
    "    return a\n",
    "list = ['ismail','mohamed','elyan']\n",
    "print(upp(list))"
   ]
  },
  {
   "cell_type": "markdown",
   "metadata": {},
   "source": [
    "# Calculating the Total Price Including Tax\n"
   ]
  },
  {
   "cell_type": "code",
   "execution_count": 6,
   "metadata": {},
   "outputs": [
    {
     "name": "stdout",
     "output_type": "stream",
     "text": [
      "105.0\n"
     ]
    }
   ],
   "source": [
    "def total(price, tax_rate):\n",
    "    tax_amount = price * tax_rate / 100  \n",
    "    total_price = price + tax_amount    \n",
    "    return total_price\n",
    "print(total(100, 5))"
   ]
  },
  {
   "cell_type": "markdown",
   "metadata": {},
   "source": [
    "# Finding the Minimum and Maximum Values in a List"
   ]
  },
  {
   "cell_type": "code",
   "execution_count": 7,
   "metadata": {},
   "outputs": [
    {
     "name": "stdout",
     "output_type": "stream",
     "text": [
      "(44, 190)\n"
     ]
    }
   ],
   "source": [
    "def minmax(nums):\n",
    "    min ,max= nums[0], nums[0]\n",
    "    for i in nums:\n",
    "        if i > max:\n",
    "            max = i\n",
    "        elif i < min:\n",
    "            min = i\n",
    "    return min , max\n",
    "list = [106,44,57,80,190]\n",
    "print(minmax(list))"
   ]
  },
  {
   "cell_type": "markdown",
   "metadata": {},
   "source": [
    "# Checking if a String is a Valid Email Address"
   ]
  },
  {
   "cell_type": "code",
   "execution_count": 8,
   "metadata": {},
   "outputs": [
    {
     "name": "stdout",
     "output_type": "stream",
     "text": [
      "Valid\n"
     ]
    }
   ],
   "source": [
    "def valid(email):\n",
    "     if \"@\" in email and \".\" in email.split(\"@\")[1]: # see if there is a @ and if there is a . in the second index in the string after splitting on @\n",
    "        return 'Valid'\n",
    "     return 'Not Valid'\n",
    "myemail = 'ismail1234@gmail.com'\n",
    "print(valid(myemail))"
   ]
  },
  {
   "cell_type": "markdown",
   "metadata": {},
   "source": [
    "# Counting the Frequency of Each Character in a String"
   ]
  },
  {
   "cell_type": "code",
   "execution_count": 9,
   "metadata": {},
   "outputs": [
    {
     "name": "stdout",
     "output_type": "stream",
     "text": [
      "{'i': 2, 's': 1, 'm': 3, 'a': 2, 'l': 1, ' ': 1, 'o': 1, 'h': 1, 'e': 1, 'd': 1}\n"
     ]
    }
   ],
   "source": [
    "def count(string):\n",
    "    count_dict = {}\n",
    "    for i in string:\n",
    "        if i in count_dict:\n",
    "            count_dict[i]+=1\n",
    "        else:\n",
    "            count_dict[i] = 1\n",
    "    return count_dict\n",
    "string = 'ismail mohamed'\n",
    "print(count(string))"
   ]
  }
 ],
 "metadata": {
  "kernelspec": {
   "display_name": "Python 3",
   "language": "python",
   "name": "python3"
  },
  "language_info": {
   "codemirror_mode": {
    "name": "ipython",
    "version": 3
   },
   "file_extension": ".py",
   "mimetype": "text/x-python",
   "name": "python",
   "nbconvert_exporter": "python",
   "pygments_lexer": "ipython3",
   "version": "3.12.2"
  }
 },
 "nbformat": 4,
 "nbformat_minor": 4
}
